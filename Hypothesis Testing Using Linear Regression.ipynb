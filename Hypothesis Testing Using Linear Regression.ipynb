{
 "cells": [
  {
   "cell_type": "markdown",
   "id": "26b74e83",
   "metadata": {},
   "source": [
    "**Goal of this exercise is to understand hypothesis testing using linear regression and how I can use this p-value to make real world decisions using linear regression.**\n",
    "\n",
    "1. [Simple Linear Regression](#slr)\n",
    "2. [Multi-linear regression](#mlr)\n"
   ]
  },
  {
   "cell_type": "markdown",
   "id": "a7a3da8a",
   "metadata": {},
   "source": [
    "# 1. Simple Linear Regression\n",
    "<a id='slr'></a>"
   ]
  },
  {
   "cell_type": "markdown",
   "id": "16fb6823",
   "metadata": {},
   "source": [
    "### Data:\n",
    "The following data is from an online rummy platform. Each row signifies one user's data for a few days on the platform. In this case, the independent variable is the deposit made by a player. The dependent variable is the commission given by the user to the platform (commission is called rake)\n",
    "\n",
    "The goal is to prove that there is a positive relation between purchase and rake, and if possible estimate the unit increase in rake due to the purchase"
   ]
  },
  {
   "cell_type": "markdown",
   "id": "d88e1a5f",
   "metadata": {},
   "source": [
    "**Hypothesis:** \n",
    "    \n",
    "*Null Hypothesis (H0): As the purchase value of the user increases, the rake given by them remains unchanged*\n",
    "\n",
    "*Alternative Hypothesis (H1): Higher the purchase value, higher the rake given by the user*"
   ]
  },
  {
   "cell_type": "code",
   "execution_count": 1,
   "id": "d89d8d04",
   "metadata": {
    "ExecuteTime": {
     "end_time": "2023-09-06T11:18:21.884121Z",
     "start_time": "2023-09-06T11:18:21.874237Z"
    }
   },
   "outputs": [],
   "source": [
    "import pandas as pd\n",
    "import numpy as np\n",
    "from sklearn.linear_model import LinearRegression\n",
    "from sklearn.preprocessing import StandardScaler\n",
    "from sklearn.model_selection import train_test_split\n",
    "from sklearn.metrics import accuracy_score,confusion_matrix, mean_squared_error, mean_absolute_error\n",
    "import matplotlib.pyplot as plt\n",
    "import seaborn as sns\n",
    "from scipy import stats\n",
    "from scipy.stats import t\n",
    "\n",
    "df= pd.read_csv('./Datasets/sample_rake_purchase_data.csv')"
   ]
  },
  {
   "cell_type": "code",
   "execution_count": 2,
   "id": "b8ab1017",
   "metadata": {
    "ExecuteTime": {
     "end_time": "2023-09-06T11:18:22.078334Z",
     "start_time": "2023-09-06T11:18:22.070886Z"
    }
   },
   "outputs": [
    {
     "data": {
      "text/html": [
       "<div>\n",
       "<style scoped>\n",
       "    .dataframe tbody tr th:only-of-type {\n",
       "        vertical-align: middle;\n",
       "    }\n",
       "\n",
       "    .dataframe tbody tr th {\n",
       "        vertical-align: top;\n",
       "    }\n",
       "\n",
       "    .dataframe thead th {\n",
       "        text-align: right;\n",
       "    }\n",
       "</style>\n",
       "<table border=\"1\" class=\"dataframe\">\n",
       "  <thead>\n",
       "    <tr style=\"text-align: right;\">\n",
       "      <th></th>\n",
       "      <th>user_identifier</th>\n",
       "      <th>total_purchase</th>\n",
       "      <th>total_rake</th>\n",
       "    </tr>\n",
       "  </thead>\n",
       "  <tbody>\n",
       "    <tr>\n",
       "      <th>0</th>\n",
       "      <td>10097</td>\n",
       "      <td>100</td>\n",
       "      <td>88.00</td>\n",
       "    </tr>\n",
       "    <tr>\n",
       "      <th>1</th>\n",
       "      <td>10972</td>\n",
       "      <td>100</td>\n",
       "      <td>31.39</td>\n",
       "    </tr>\n",
       "    <tr>\n",
       "      <th>2</th>\n",
       "      <td>83634</td>\n",
       "      <td>100</td>\n",
       "      <td>57.00</td>\n",
       "    </tr>\n",
       "    <tr>\n",
       "      <th>3</th>\n",
       "      <td>90513</td>\n",
       "      <td>25</td>\n",
       "      <td>0.00</td>\n",
       "    </tr>\n",
       "    <tr>\n",
       "      <th>4</th>\n",
       "      <td>107849</td>\n",
       "      <td>25</td>\n",
       "      <td>4.08</td>\n",
       "    </tr>\n",
       "  </tbody>\n",
       "</table>\n",
       "</div>"
      ],
      "text/plain": [
       "   user_identifier  total_purchase  total_rake\n",
       "0            10097             100       88.00\n",
       "1            10972             100       31.39\n",
       "2            83634             100       57.00\n",
       "3            90513              25        0.00\n",
       "4           107849              25        4.08"
      ]
     },
     "execution_count": 2,
     "metadata": {},
     "output_type": "execute_result"
    }
   ],
   "source": [
    "df.head()"
   ]
  },
  {
   "cell_type": "code",
   "execution_count": 3,
   "id": "b116b1c2",
   "metadata": {},
   "outputs": [
    {
     "data": {
      "text/plain": [
       "count     7124.000000\n",
       "mean        50.155653\n",
       "std        262.048275\n",
       "min          0.000000\n",
       "25%          1.167500\n",
       "50%          7.800000\n",
       "75%         22.037500\n",
       "max      10818.220000\n",
       "Name: total_rake, dtype: float64"
      ]
     },
     "execution_count": 3,
     "metadata": {},
     "output_type": "execute_result"
    }
   ],
   "source": [
    "df.total_rake.describe()"
   ]
  },
  {
   "cell_type": "code",
   "execution_count": 4,
   "id": "d7243697",
   "metadata": {},
   "outputs": [
    {
     "name": "stdout",
     "output_type": "stream",
     "text": [
      "mean=162.808 stdv=1048.627\n"
     ]
    }
   ],
   "source": [
    "print('mean=%.3f stdv=%.3f' % (np.mean(df['total_purchase']), np.std(df['total_purchase'])))"
   ]
  },
  {
   "cell_type": "markdown",
   "id": "3e3c96bf",
   "metadata": {},
   "source": [
    "### Outlier removal: \n",
    "1. Interquartile range \n",
    "2. Z-score thresholding"
   ]
  },
  {
   "cell_type": "code",
   "execution_count": 5,
   "id": "021590d3",
   "metadata": {},
   "outputs": [],
   "source": [
    "# calculate interquartile range\n",
    "q25, q75 = np.percentile(df['total_rake'], 25), np.percentile(df['total_rake'], 75)\n",
    "iqr = q75 - q25\n",
    "cut_off = iqr * 1.5\n",
    "lower, upper = q25 - cut_off, q75 + cut_off\n",
    "\n",
    "df_upd= df.query('@lower<total_rake<=@upper')"
   ]
  },
  {
   "cell_type": "code",
   "execution_count": 6,
   "id": "54aa5d16",
   "metadata": {},
   "outputs": [],
   "source": [
    "z_scores = stats.zscore(df_upd['total_purchase'])\n",
    "\n",
    "# All values that are 2.5 standard deviations away from the mean will be removed\n",
    "outliers = np.abs(z_scores) > 2.5\n",
    "df_upd=df_upd[~outliers]"
   ]
  },
  {
   "cell_type": "code",
   "execution_count": 7,
   "id": "42ba6c86",
   "metadata": {},
   "outputs": [
    {
     "data": {
      "text/plain": [
       "count    6170.000000\n",
       "mean        9.563916\n",
       "std        11.573986\n",
       "min         0.000000\n",
       "25%         0.460000\n",
       "50%         5.500000\n",
       "75%        13.355000\n",
       "max        53.330000\n",
       "Name: total_rake, dtype: float64"
      ]
     },
     "execution_count": 7,
     "metadata": {},
     "output_type": "execute_result"
    }
   ],
   "source": [
    "df_upd.total_rake.describe()"
   ]
  },
  {
   "cell_type": "code",
   "execution_count": 8,
   "id": "8f7ed53c",
   "metadata": {
    "ExecuteTime": {
     "end_time": "2023-09-06T11:18:22.228652Z",
     "start_time": "2023-09-06T11:18:22.225355Z"
    }
   },
   "outputs": [],
   "source": [
    "scaler= StandardScaler()\n",
    "X= df_upd['total_purchase'].values.reshape(-1,1)\n",
    "y= df_upd['total_rake'].values.reshape(-1,1)"
   ]
  },
  {
   "cell_type": "code",
   "execution_count": 9,
   "id": "6692de73",
   "metadata": {
    "ExecuteTime": {
     "end_time": "2023-09-06T11:18:22.397091Z",
     "start_time": "2023-09-06T11:18:22.392952Z"
    }
   },
   "outputs": [],
   "source": [
    "X_scaled=X"
   ]
  },
  {
   "cell_type": "code",
   "execution_count": 10,
   "id": "f341cb32",
   "metadata": {
    "ExecuteTime": {
     "end_time": "2023-09-06T11:18:22.550803Z",
     "start_time": "2023-09-06T11:18:22.545166Z"
    }
   },
   "outputs": [
    {
     "data": {
      "text/html": [
       "<style>#sk-container-id-1 {color: black;background-color: white;}#sk-container-id-1 pre{padding: 0;}#sk-container-id-1 div.sk-toggleable {background-color: white;}#sk-container-id-1 label.sk-toggleable__label {cursor: pointer;display: block;width: 100%;margin-bottom: 0;padding: 0.3em;box-sizing: border-box;text-align: center;}#sk-container-id-1 label.sk-toggleable__label-arrow:before {content: \"▸\";float: left;margin-right: 0.25em;color: #696969;}#sk-container-id-1 label.sk-toggleable__label-arrow:hover:before {color: black;}#sk-container-id-1 div.sk-estimator:hover label.sk-toggleable__label-arrow:before {color: black;}#sk-container-id-1 div.sk-toggleable__content {max-height: 0;max-width: 0;overflow: hidden;text-align: left;background-color: #f0f8ff;}#sk-container-id-1 div.sk-toggleable__content pre {margin: 0.2em;color: black;border-radius: 0.25em;background-color: #f0f8ff;}#sk-container-id-1 input.sk-toggleable__control:checked~div.sk-toggleable__content {max-height: 200px;max-width: 100%;overflow: auto;}#sk-container-id-1 input.sk-toggleable__control:checked~label.sk-toggleable__label-arrow:before {content: \"▾\";}#sk-container-id-1 div.sk-estimator input.sk-toggleable__control:checked~label.sk-toggleable__label {background-color: #d4ebff;}#sk-container-id-1 div.sk-label input.sk-toggleable__control:checked~label.sk-toggleable__label {background-color: #d4ebff;}#sk-container-id-1 input.sk-hidden--visually {border: 0;clip: rect(1px 1px 1px 1px);clip: rect(1px, 1px, 1px, 1px);height: 1px;margin: -1px;overflow: hidden;padding: 0;position: absolute;width: 1px;}#sk-container-id-1 div.sk-estimator {font-family: monospace;background-color: #f0f8ff;border: 1px dotted black;border-radius: 0.25em;box-sizing: border-box;margin-bottom: 0.5em;}#sk-container-id-1 div.sk-estimator:hover {background-color: #d4ebff;}#sk-container-id-1 div.sk-parallel-item::after {content: \"\";width: 100%;border-bottom: 1px solid gray;flex-grow: 1;}#sk-container-id-1 div.sk-label:hover label.sk-toggleable__label {background-color: #d4ebff;}#sk-container-id-1 div.sk-serial::before {content: \"\";position: absolute;border-left: 1px solid gray;box-sizing: border-box;top: 0;bottom: 0;left: 50%;z-index: 0;}#sk-container-id-1 div.sk-serial {display: flex;flex-direction: column;align-items: center;background-color: white;padding-right: 0.2em;padding-left: 0.2em;position: relative;}#sk-container-id-1 div.sk-item {position: relative;z-index: 1;}#sk-container-id-1 div.sk-parallel {display: flex;align-items: stretch;justify-content: center;background-color: white;position: relative;}#sk-container-id-1 div.sk-item::before, #sk-container-id-1 div.sk-parallel-item::before {content: \"\";position: absolute;border-left: 1px solid gray;box-sizing: border-box;top: 0;bottom: 0;left: 50%;z-index: -1;}#sk-container-id-1 div.sk-parallel-item {display: flex;flex-direction: column;z-index: 1;position: relative;background-color: white;}#sk-container-id-1 div.sk-parallel-item:first-child::after {align-self: flex-end;width: 50%;}#sk-container-id-1 div.sk-parallel-item:last-child::after {align-self: flex-start;width: 50%;}#sk-container-id-1 div.sk-parallel-item:only-child::after {width: 0;}#sk-container-id-1 div.sk-dashed-wrapped {border: 1px dashed gray;margin: 0 0.4em 0.5em 0.4em;box-sizing: border-box;padding-bottom: 0.4em;background-color: white;}#sk-container-id-1 div.sk-label label {font-family: monospace;font-weight: bold;display: inline-block;line-height: 1.2em;}#sk-container-id-1 div.sk-label-container {text-align: center;}#sk-container-id-1 div.sk-container {/* jupyter's `normalize.less` sets `[hidden] { display: none; }` but bootstrap.min.css set `[hidden] { display: none !important; }` so we also need the `!important` here to be able to override the default hidden behavior on the sphinx rendered scikit-learn.org. See: https://github.com/scikit-learn/scikit-learn/issues/21755 */display: inline-block !important;position: relative;}#sk-container-id-1 div.sk-text-repr-fallback {display: none;}</style><div id=\"sk-container-id-1\" class=\"sk-top-container\"><div class=\"sk-text-repr-fallback\"><pre>LinearRegression()</pre><b>In a Jupyter environment, please rerun this cell to show the HTML representation or trust the notebook. <br />On GitHub, the HTML representation is unable to render, please try loading this page with nbviewer.org.</b></div><div class=\"sk-container\" hidden><div class=\"sk-item\"><div class=\"sk-estimator sk-toggleable\"><input class=\"sk-toggleable__control sk-hidden--visually\" id=\"sk-estimator-id-1\" type=\"checkbox\" checked><label for=\"sk-estimator-id-1\" class=\"sk-toggleable__label sk-toggleable__label-arrow\">LinearRegression</label><div class=\"sk-toggleable__content\"><pre>LinearRegression()</pre></div></div></div></div></div>"
      ],
      "text/plain": [
       "LinearRegression()"
      ]
     },
     "execution_count": 10,
     "metadata": {},
     "output_type": "execute_result"
    }
   ],
   "source": [
    "X_train, X_test, y_train, y_test=train_test_split(X_scaled, y, test_size=0.2,shuffle=True)\n",
    "model= LinearRegression()\n",
    "model.fit(X_train,y_train)"
   ]
  },
  {
   "cell_type": "code",
   "execution_count": 11,
   "id": "56693b62",
   "metadata": {
    "ExecuteTime": {
     "end_time": "2023-09-06T11:18:22.848648Z",
     "start_time": "2023-09-06T11:18:22.844729Z"
    }
   },
   "outputs": [
    {
     "name": "stdout",
     "output_type": "stream",
     "text": [
      "111.56540193208393\n",
      "7.409529264814386\n"
     ]
    }
   ],
   "source": [
    "\n",
    "y_pred= model.predict(X_test)\n",
    "print(mean_squared_error(y_pred=y_pred, y_true=y_test))\n",
    "print(mean_absolute_error(y_pred=y_pred, y_true=y_test))"
   ]
  },
  {
   "cell_type": "markdown",
   "id": "5d1c4092",
   "metadata": {},
   "source": [
    "### Validating Assumptions of Linear Regression\n",
    "1. Linearity\n",
    "2. Independence\n",
    "3. Normality\n",
    "4. Homoscedasticity"
   ]
  },
  {
   "cell_type": "code",
   "execution_count": 12,
   "id": "1c447622",
   "metadata": {},
   "outputs": [
    {
     "data": {
      "image/png": "[encoded data removed]",
      "text/plain": [
       "<Figure size 1008x720 with 4 Axes>"
      ]
     },
     "metadata": {
      "needs_background": "light"
     },
     "output_type": "display_data"
    }
   ],
   "source": [
    "X = X_test\n",
    "y = y_test\n",
    "y_pred= model.predict(X_test)\n",
    "residuals = y - y_pred\n",
    "\n",
    "\n",
    "fig, axs = plt.subplots(2, 2, figsize=(14, 10))\n",
    "\n",
    "# Plot for Linearity: Residuals vs Fitted values\n",
    "sns.residplot(x=y_pred.reshape(-1), y=residuals.reshape(-1), lowess=True, ax=axs[0, 0], line_kws={'color': 'red', 'lw': 1})\n",
    "axs[0, 0].set_title('Residuals vs Fitted')\n",
    "axs[0, 0].set_xlabel('Fitted values')\n",
    "axs[0, 0].set_ylabel('Residuals')\n",
    "\n",
    "# Plot for Homoscedasticity: Residuals vs Fitted values\n",
    "sns.residplot(x=y_pred.reshape(-1), y=residuals.reshape(-1), lowess=True, ax=axs[0, 1], line_kws={'color': 'red', 'lw': 1})\n",
    "axs[0, 1].set_title('Residuals vs Fitted')\n",
    "axs[0, 1].set_xlabel('Fitted values')\n",
    "axs[0, 1].set_ylabel('Residuals')\n",
    "\n",
    "# Plot for Normality: Histogram\n",
    "sns.histplot(residuals, kde=True, ax=axs[1, 0])\n",
    "axs[1, 0].set_title('Histogram of Residuals')\n",
    "axs[1, 0].set_xlabel('Residuals')\n",
    "\n",
    "# Plot for Normality: Q-Q Plot\n",
    "stats.probplot(residuals.reshape(-1), dist=\"norm\", plot=axs[1, 1])\n",
    "axs[1, 1].set_title('Q-Q Plot')\n",
    "\n",
    "plt.tight_layout()\n",
    "plt.show()\n"
   ]
  },
  {
   "cell_type": "markdown",
   "id": "cc5f48a6",
   "metadata": {},
   "source": [
    "### Finding out required coefficients for 2-tailed T-test"
   ]
  },
  {
   "cell_type": "code",
   "execution_count": 13,
   "id": "25a9c478",
   "metadata": {
    "ExecuteTime": {
     "end_time": "2023-09-06T11:53:39.779400Z",
     "start_time": "2023-09-06T11:53:39.776055Z"
    }
   },
   "outputs": [],
   "source": [
    "data_len= len(X_test)\n",
    "residual=np.subtract(y_pred,y_test)\n",
    "\n",
    "RSS= np.sum(residual**2)\n",
    "standard_error= (RSS/(data_len-2))**0.5\n",
    "\n",
    "X_mean=np.mean(X_test)\n",
    "sum_squared_diff = np.sum((X_test - X_mean) ** 2)\n",
    "\n",
    "se_b0 = standard_error * np.sqrt((1 / data_len) + (X_mean ** 2) / sum_squared_diff)\n",
    "se_b1 = standard_error * np.sqrt(1 / sum_squared_diff)\n",
    "\n",
    "t_b0= model.intercept_[0]/se_b0\n",
    "t_b1= model.coef_[0]/se_b1"
   ]
  },
  {
   "cell_type": "code",
   "execution_count": 14,
   "id": "7d07392a",
   "metadata": {
    "ExecuteTime": {
     "end_time": "2023-09-06T11:54:57.074971Z",
     "start_time": "2023-09-06T11:54:57.072711Z"
    }
   },
   "outputs": [
    {
     "name": "stdout",
     "output_type": "stream",
     "text": [
      "P-value for b0: 2.220446049250313e-16\n",
      "P-value for b0: [0.]\n"
     ]
    }
   ],
   "source": [
    "\n",
    "# Calculate two-tailed p-values\n",
    "degrees_of_freedom=data_len-2\n",
    "p_value_b0 = 2 * (1 - t.cdf(np.abs(t_b0), df=degrees_of_freedom))\n",
    "p_value_b1 = 2 * (1 - t.cdf(np.abs(t_b1), df=degrees_of_freedom))\n",
    "\n",
    "print(f'P-value for b0: {p_value_b0}')\n",
    "print(f'P-value for b0: {p_value_b1}')"
   ]
  },
  {
   "cell_type": "code",
   "execution_count": 15,
   "id": "ceb047e6",
   "metadata": {},
   "outputs": [
    {
     "name": "stdout",
     "output_type": "stream",
     "text": [
      "CI for b0: ((2.9309590156480687, 4.709926927152627))\n",
      "CI for b1: ((0.08188902498004533, 0.10342643516377631))\n"
     ]
    }
   ],
   "source": [
    "# Define the alpha level for a 95% confidence interval\n",
    "alpha = 0.05\n",
    "model_intercept= model.intercept_[0]\n",
    "model_coef= model.coef_[0][0]\n",
    "# Find the t-value for the 95% confidence interval and the given degrees of freedom\n",
    "t_critical = t.ppf(1 - alpha / 2, df=degrees_of_freedom)\n",
    "\n",
    "# Calculate the margin of error\n",
    "margin_of_error_b0 = t_critical * se_b0\n",
    "margin_of_error_b1 = t_critical * se_b1\n",
    "\n",
    "# Calculate the confidence intervals\n",
    "ci_b0_lower = model_intercept - margin_of_error_b0\n",
    "ci_b0_upper = model_intercept + margin_of_error_b0\n",
    "\n",
    "ci_b1_lower = model_coef - margin_of_error_b1\n",
    "ci_b1_upper = model_coef + margin_of_error_b1\n",
    "\n",
    "print(f'CI for b0: ({ci_b0_lower, ci_b0_upper})') \n",
    "print(f'CI for b1: ({ci_b1_lower, ci_b1_upper})') \n"
   ]
  },
  {
   "cell_type": "code",
   "execution_count": 16,
   "id": "d829d230",
   "metadata": {},
   "outputs": [
    {
     "name": "stdout",
     "output_type": "stream",
     "text": [
      "Intercept is: [3.82044297] and Coefficients are : [[0.09265773]]\n"
     ]
    }
   ],
   "source": [
    "print(f'Intercept is: {model.intercept_} and Coefficients are : {model.coef_}')"
   ]
  },
  {
   "cell_type": "markdown",
   "id": "ddb8ecb6",
   "metadata": {},
   "source": [
    "## Conclusion"
   ]
  },
  {
   "cell_type": "markdown",
   "id": "bf5bcf7a",
   "metadata": {},
   "source": [
    "1. I am 95% confident that for every 1 rupee increase in purchase, I will get about 0.08 to 0.1 rupee increase in rake\n",
    "\n",
    "2. I am 95% confident that when purchase amount is zero, the rake will be between approximately 2.685 and 4.484 rupees.\n"
   ]
  },
  {
   "cell_type": "markdown",
   "id": "0b32b5d0",
   "metadata": {},
   "source": [
    "# 2. Multi-Linear Regression\n",
    "<a id='mlr'></a>"
   ]
  },
  {
   "cell_type": "markdown",
   "id": "4a0df951",
   "metadata": {},
   "source": [
    "### Data:\n",
    "The following data is data from an online rummy platform. Each row signifies one user's data for a few days on the platform. Their deposits, gameplay and activity is stored in the form of 4 variables. The dependent variable is the commission given by the user to the platform (commission is called rake)\n",
    "\n",
    "* **Total Purchase**: Total deposit made by a user\n",
    "* **Total Rake**: Commission given to the platform by a user\n",
    "* **Total Rake APD**: Total Active days of any user when they gave commission to the platform \n",
    "* **Total Games**: Total Games played by the user\n",
    "\n",
    "The goal is to identify the important variables that contribute to rake, and if possible estimate the unit increase in rake due to the important variables"
   ]
  },
  {
   "cell_type": "code",
   "execution_count": 17,
   "id": "dd918d5d",
   "metadata": {},
   "outputs": [],
   "source": [
    "import pandas as pd\n",
    "import numpy as np\n",
    "from sklearn.linear_model import LinearRegression\n",
    "from sklearn.preprocessing import StandardScaler\n",
    "from sklearn.model_selection import train_test_split\n",
    "from sklearn.metrics import accuracy_score,confusion_matrix, mean_squared_error, mean_absolute_error\n",
    "import matplotlib.pyplot as plt\n",
    "import seaborn as sns\n",
    "from scipy import stats\n",
    "from scipy.stats import t\n",
    "import statsmodels.api as sm\n",
    "\n",
    "df2= pd.read_csv('./Datasets/sample_rake_purchase_data_v2.csv')"
   ]
  },
  {
   "cell_type": "code",
   "execution_count": 18,
   "id": "ed0e6239",
   "metadata": {},
   "outputs": [
    {
     "data": {
      "text/html": [
       "<div>\n",
       "<style scoped>\n",
       "    .dataframe tbody tr th:only-of-type {\n",
       "        vertical-align: middle;\n",
       "    }\n",
       "\n",
       "    .dataframe tbody tr th {\n",
       "        vertical-align: top;\n",
       "    }\n",
       "\n",
       "    .dataframe thead th {\n",
       "        text-align: right;\n",
       "    }\n",
       "</style>\n",
       "<table border=\"1\" class=\"dataframe\">\n",
       "  <thead>\n",
       "    <tr style=\"text-align: right;\">\n",
       "      <th></th>\n",
       "      <th>user_identifier</th>\n",
       "      <th>total_purchase</th>\n",
       "      <th>total_rake</th>\n",
       "      <th>total_rake_apd</th>\n",
       "      <th>total_games</th>\n",
       "    </tr>\n",
       "  </thead>\n",
       "  <tbody>\n",
       "    <tr>\n",
       "      <th>0</th>\n",
       "      <td>13096</td>\n",
       "      <td>100</td>\n",
       "      <td>48.39</td>\n",
       "      <td>2</td>\n",
       "      <td>22</td>\n",
       "    </tr>\n",
       "    <tr>\n",
       "      <th>1</th>\n",
       "      <td>68382</td>\n",
       "      <td>50</td>\n",
       "      <td>7.50</td>\n",
       "      <td>1</td>\n",
       "      <td>2</td>\n",
       "    </tr>\n",
       "    <tr>\n",
       "      <th>2</th>\n",
       "      <td>99829</td>\n",
       "      <td>100</td>\n",
       "      <td>57.00</td>\n",
       "      <td>1</td>\n",
       "      <td>4</td>\n",
       "    </tr>\n",
       "    <tr>\n",
       "      <th>3</th>\n",
       "      <td>108040</td>\n",
       "      <td>25</td>\n",
       "      <td>0.00</td>\n",
       "      <td>0</td>\n",
       "      <td>2</td>\n",
       "    </tr>\n",
       "    <tr>\n",
       "      <th>4</th>\n",
       "      <td>128732</td>\n",
       "      <td>25</td>\n",
       "      <td>4.08</td>\n",
       "      <td>1</td>\n",
       "      <td>3</td>\n",
       "    </tr>\n",
       "  </tbody>\n",
       "</table>\n",
       "</div>"
      ],
      "text/plain": [
       "   user_identifier  total_purchase  total_rake  total_rake_apd  total_games\n",
       "0            13096             100       48.39               2           22\n",
       "1            68382              50        7.50               1            2\n",
       "2            99829             100       57.00               1            4\n",
       "3           108040              25        0.00               0            2\n",
       "4           128732              25        4.08               1            3"
      ]
     },
     "execution_count": 18,
     "metadata": {},
     "output_type": "execute_result"
    }
   ],
   "source": [
    "df2.head()"
   ]
  },
  {
   "cell_type": "code",
   "execution_count": 19,
   "id": "18eb2693",
   "metadata": {},
   "outputs": [
    {
     "data": {
      "text/plain": [
       "count     7650.000000\n",
       "mean        56.240498\n",
       "std        442.397501\n",
       "min          0.000000\n",
       "25%          0.690000\n",
       "50%          7.610000\n",
       "75%         21.757500\n",
       "max      27077.150000\n",
       "Name: total_rake, dtype: float64"
      ]
     },
     "execution_count": 19,
     "metadata": {},
     "output_type": "execute_result"
    }
   ],
   "source": [
    "df2.total_rake.describe()"
   ]
  },
  {
   "cell_type": "markdown",
   "id": "c409466c",
   "metadata": {},
   "source": [
    "### Outlier Removal"
   ]
  },
  {
   "cell_type": "code",
   "execution_count": 20,
   "id": "2e018e3f",
   "metadata": {},
   "outputs": [],
   "source": [
    "# Calculate interquartile range\n",
    "q25, q75 = np.percentile(df2['total_rake'], 25), np.percentile(df2['total_rake'], 75)\n",
    "iqr = q75 - q25\n",
    "cut_off = iqr * 1.5\n",
    "lower, upper = q25 - cut_off, q75 + cut_off\n",
    "\n",
    "df2_upd= df2.query('@lower<total_rake<=@upper')"
   ]
  },
  {
   "cell_type": "code",
   "execution_count": 21,
   "id": "32d07ca1",
   "metadata": {},
   "outputs": [],
   "source": [
    "z_scores = stats.zscore(df2_upd['total_purchase'])\n",
    "\n",
    "# All values that are 2.5 standard deviations away from the mean will be removed\n",
    "outliers = np.abs(z_scores) > 2.5\n",
    "df2_upd=df2_upd[~outliers]\n",
    "\n",
    "z_scores = stats.zscore(df2_upd['total_games'])\n",
    "\n",
    "# All values that are 2.5 standard deviations away from the mean will be removed\n",
    "outliers = np.abs(z_scores) > 2.5\n",
    "df2_upd=df2_upd[~outliers]"
   ]
  },
  {
   "cell_type": "code",
   "execution_count": 22,
   "id": "5d69661e",
   "metadata": {},
   "outputs": [
    {
     "data": {
      "text/plain": [
       "count    6397.000000\n",
       "mean        8.881934\n",
       "std        11.126381\n",
       "min         0.000000\n",
       "25%         0.000000\n",
       "50%         4.720000\n",
       "75%        12.540000\n",
       "max        53.330000\n",
       "Name: total_rake, dtype: float64"
      ]
     },
     "execution_count": 22,
     "metadata": {},
     "output_type": "execute_result"
    }
   ],
   "source": [
    "df2_upd.total_rake.describe()"
   ]
  },
  {
   "cell_type": "markdown",
   "id": "abc2108c",
   "metadata": {},
   "source": [
    "### Linear Regression using Statsmodels & OLS"
   ]
  },
  {
   "cell_type": "code",
   "execution_count": 23,
   "id": "7809cb3d",
   "metadata": {},
   "outputs": [],
   "source": [
    "scaler= StandardScaler()\n",
    "X= df2_upd[['total_purchase','total_rake_apd', 'total_games']].values\n",
    "y= df2_upd['total_rake'].values.reshape(-1,1)\n",
    "\n",
    "X_scaled= scaler.fit_transform(X)\n",
    "X_train,X_test, y_train, y_test= train_test_split(X_scaled, y, shuffle=True, test_size=0.2)"
   ]
  },
  {
   "cell_type": "code",
   "execution_count": 24,
   "id": "9f59c88e",
   "metadata": {},
   "outputs": [
    {
     "name": "stdout",
     "output_type": "stream",
     "text": [
      "                            OLS Regression Results                            \n",
      "==============================================================================\n",
      "Dep. Variable:                      y   R-squared:                       0.479\n",
      "Model:                            OLS   Adj. R-squared:                  0.478\n",
      "Method:                 Least Squares   F-statistic:                     1565.\n",
      "Date:                Fri, 08 Sep 2023   Prob (F-statistic):               0.00\n",
      "Time:                        10:05:17   Log-Likelihood:                -17899.\n",
      "No. Observations:                5117   AIC:                         3.581e+04\n",
      "Df Residuals:                    5113   BIC:                         3.583e+04\n",
      "Df Model:                           3                                         \n",
      "Covariance Type:            nonrobust                                         \n",
      "==============================================================================\n",
      "                 coef    std err          t      P>|t|      [0.025      0.975]\n",
      "------------------------------------------------------------------------------\n",
      "const          8.9120      0.112     79.696      0.000       8.693       9.131\n",
      "x1             4.4878      0.119     37.577      0.000       4.254       4.722\n",
      "x2             3.2932      0.132     24.878      0.000       3.034       3.553\n",
      "x3             2.3708      0.128     18.473      0.000       2.119       2.622\n",
      "==============================================================================\n",
      "Omnibus:                     1337.596   Durbin-Watson:                   1.998\n",
      "Prob(Omnibus):                  0.000   Jarque-Bera (JB):             4905.726\n",
      "Skew:                           1.270   Prob(JB):                         0.00\n",
      "Kurtosis:                       7.069   Cond. No.                         1.85\n",
      "==============================================================================\n",
      "\n",
      "Notes:\n",
      "[1] Standard Errors assume that the covariance matrix of the errors is correctly specified.\n"
     ]
    }
   ],
   "source": [
    "# Adds a constant (intercept) to the predictors\n",
    "X_train_tem = sm.add_constant(X_train)  \n",
    "\n",
    "model = sm.OLS(y_train, X_train_tem).fit()\n",
    "print(model.summary())"
   ]
  },
  {
   "cell_type": "markdown",
   "id": "fff6893b",
   "metadata": {},
   "source": [
    "---------------------------\n",
    "**Model Performance:**\n",
    "1. An r-squared and adjusted r-squared of ~48% is moderate\n",
    "2. High F-statistic means there is atleast 1 predictor is relevant\n",
    "\n",
    "**Independent Variables:**\n",
    "1. All variables have a low P-value and CI that does not include 0, hence all variables are statistically significant\n",
    "2. Since coefficients are scaled, we cannot interpret it in terms of dataset variables\n",
    "\n",
    "**Assumptions:**\n",
    "1. A low p-value for Omnibus indicates that the residuals are not normally distributed\n",
    "2. A low Prob(JB) indicates that the residuals are not normally distributed\n",
    "3. Durbin-Watson: A value close to 2 indicates that there is no significant autocorrelation in the residuals.\n",
    "4. Condition Numbers below 20 indicate that multicollinearity is not a concern.\n",
    "\n",
    "\n",
    "\n",
    "_However, since the JB & Omnibus tests are sensitive to sample sizes, I'll check the Q-Q plot/Shapiro-Wilk test for Normality. If even they indicate lack of Normality, then data transformation will be necessary_\n",
    "    "
   ]
  },
  {
   "cell_type": "code",
   "execution_count": 25,
   "id": "9344bfc8",
   "metadata": {},
   "outputs": [
    {
     "data": {
      "image/png": "[encoded data removed]",
      "text/plain": [
       "<Figure size 720x432 with 1 Axes>"
      ]
     },
     "metadata": {
      "needs_background": "light"
     },
     "output_type": "display_data"
    },
    {
     "name": "stdout",
     "output_type": "stream",
     "text": [
      "Shapiro-Wilk Test Statistic: 0.8922059535980225\n",
      "Shapiro-Wilk p-value: 0.0\n"
     ]
    },
    {
     "name": "stderr",
     "output_type": "stream",
     "text": [
      "D:\\pythonProject\\general_python_codes\\lib\\site-packages\\scipy\\stats\\_morestats.py:1800: UserWarning: p-value may not be accurate for N > 5000.\n",
      "  warnings.warn(\"p-value may not be accurate for N > 5000.\")\n"
     ]
    }
   ],
   "source": [
    "from scipy.stats import shapiro, probplot\n",
    "\n",
    "import numpy as np\n",
    "sample_residuals = model.resid\n",
    "\n",
    "# Plotting the Q-Q plot\n",
    "plt.figure(figsize=(10, 6))\n",
    "probplot(sample_residuals, plot=plt)\n",
    "plt.title(\"Q-Q Plot of Residuals\")\n",
    "plt.show()\n",
    "\n",
    "# Calculating the Shapiro-Wilk test statistic and p-value\n",
    "shapiro_stat, shapiro_p_value = shapiro(sample_residuals)\n",
    "\n",
    "print(f\"Shapiro-Wilk Test Statistic: {shapiro_stat}\")\n",
    "print(f\"Shapiro-Wilk p-value: {shapiro_p_value}\")"
   ]
  },
  {
   "cell_type": "markdown",
   "id": "80045aaf",
   "metadata": {},
   "source": [
    "### Applying Transformations"
   ]
  },
  {
   "cell_type": "code",
   "execution_count": 26,
   "id": "3b704568",
   "metadata": {},
   "outputs": [],
   "source": [
    "def sm_model(X_train,y_train):\n",
    "    X_train_tem = sm.add_constant(X_train)  \n",
    "    model = sm.OLS(y_train, X_train_tem).fit()\n",
    "    print(model.summary())"
   ]
  },
  {
   "cell_type": "code",
   "execution_count": 27,
   "id": "a86c4d49",
   "metadata": {},
   "outputs": [
    {
     "name": "stdout",
     "output_type": "stream",
     "text": [
      "                            OLS Regression Results                            \n",
      "==============================================================================\n",
      "Dep. Variable:                      y   R-squared:                       0.436\n",
      "Model:                            OLS   Adj. R-squared:                  0.436\n",
      "Method:                 Least Squares   F-statistic:                     1319.\n",
      "Date:                Fri, 08 Sep 2023   Prob (F-statistic):               0.00\n",
      "Time:                        10:05:17   Log-Likelihood:                -18102.\n",
      "No. Observations:                5117   AIC:                         3.621e+04\n",
      "Df Residuals:                    5113   BIC:                         3.624e+04\n",
      "Df Model:                           3                                         \n",
      "Covariance Type:            nonrobust                                         \n",
      "==============================================================================\n",
      "                 coef    std err          t      P>|t|      [0.025      0.975]\n",
      "------------------------------------------------------------------------------\n",
      "const          8.8974      0.116     76.462      0.000       8.669       9.125\n",
      "x1             4.0245      0.133     30.364      0.000       3.765       4.284\n",
      "x2             1.8636      0.187      9.985      0.000       1.498       2.229\n",
      "x3             2.9126      0.186     15.642      0.000       2.548       3.278\n",
      "==============================================================================\n",
      "Omnibus:                     1243.817   Durbin-Watson:                   2.036\n",
      "Prob(Omnibus):                  0.000   Jarque-Bera (JB):             3456.238\n",
      "Skew:                           1.280   Prob(JB):                         0.00\n",
      "Kurtosis:                       6.108   Cond. No.                         3.06\n",
      "==============================================================================\n",
      "\n",
      "Notes:\n",
      "[1] Standard Errors assume that the covariance matrix of the errors is correctly specified.\n"
     ]
    }
   ],
   "source": [
    "# Log transform\n",
    "\n",
    "scaler= StandardScaler()\n",
    "log_x = np.log(X + 1)\n",
    "X_scaled= scaler.fit_transform(log_x)\n",
    "X_train,X_test, y_train, y_test= train_test_split(X_scaled, y, shuffle=True, test_size=0.2)\n",
    "\n",
    "sm_model(X_train, y_train)"
   ]
  },
  {
   "cell_type": "code",
   "execution_count": 28,
   "id": "6ab3ec1f",
   "metadata": {},
   "outputs": [
    {
     "name": "stdout",
     "output_type": "stream",
     "text": [
      "                            OLS Regression Results                            \n",
      "==============================================================================\n",
      "Dep. Variable:                      y   R-squared:                       0.458\n",
      "Model:                            OLS   Adj. R-squared:                  0.457\n",
      "Method:                 Least Squares   F-statistic:                     1439.\n",
      "Date:                Fri, 08 Sep 2023   Prob (F-statistic):               0.00\n",
      "Time:                        10:05:17   Log-Likelihood:                -18071.\n",
      "No. Observations:                5117   AIC:                         3.615e+04\n",
      "Df Residuals:                    5113   BIC:                         3.618e+04\n",
      "Df Model:                           3                                         \n",
      "Covariance Type:            nonrobust                                         \n",
      "==============================================================================\n",
      "                 coef    std err          t      P>|t|      [0.025      0.975]\n",
      "------------------------------------------------------------------------------\n",
      "const          8.9273      0.116     77.176      0.000       8.701       9.154\n",
      "x1             4.4747      0.127     35.276      0.000       4.226       4.723\n",
      "x2             1.9864      0.167     11.924      0.000       1.660       2.313\n",
      "x3             2.8859      0.164     17.614      0.000       2.565       3.207\n",
      "==============================================================================\n",
      "Omnibus:                     1237.847   Durbin-Watson:                   2.053\n",
      "Prob(Omnibus):                  0.000   Jarque-Bera (JB):             3717.153\n",
      "Skew:                           1.243   Prob(JB):                         0.00\n",
      "Kurtosis:                       6.354   Cond. No.                         2.61\n",
      "==============================================================================\n",
      "\n",
      "Notes:\n",
      "[1] Standard Errors assume that the covariance matrix of the errors is correctly specified.\n"
     ]
    }
   ],
   "source": [
    "# Sqrt transform\n",
    "\n",
    "scaler= StandardScaler()\n",
    "sqrt_x = np.sqrt(X)\n",
    "X_scaled= scaler.fit_transform(sqrt_x)\n",
    "X_train,X_test, y_train, y_test= train_test_split(X_scaled, y, shuffle=True, test_size=0.2)\n",
    "\n",
    "sm_model(X_train, y_train)"
   ]
  },
  {
   "cell_type": "code",
   "execution_count": 29,
   "id": "251d3a28",
   "metadata": {},
   "outputs": [
    {
     "name": "stdout",
     "output_type": "stream",
     "text": [
      "                            OLS Regression Results                            \n",
      "==============================================================================\n",
      "Dep. Variable:                      y   R-squared:                       0.483\n",
      "Model:                            OLS   Adj. R-squared:                  0.483\n",
      "Method:                 Least Squares   F-statistic:                     1595.\n",
      "Date:                Fri, 08 Sep 2023   Prob (F-statistic):               0.00\n",
      "Time:                        10:05:17   Log-Likelihood:                -17908.\n",
      "No. Observations:                5117   AIC:                         3.582e+04\n",
      "Df Residuals:                    5113   BIC:                         3.585e+04\n",
      "Df Model:                           3                                         \n",
      "Covariance Type:            nonrobust                                         \n",
      "==============================================================================\n",
      "                 coef    std err          t      P>|t|      [0.025      0.975]\n",
      "------------------------------------------------------------------------------\n",
      "const          8.8675      0.112     79.155      0.000       8.648       9.087\n",
      "x1             4.5368      0.118     38.386      0.000       4.305       4.768\n",
      "x2             3.3284      0.132     25.138      0.000       3.069       3.588\n",
      "x3             2.3200      0.128     18.085      0.000       2.069       2.571\n",
      "==============================================================================\n",
      "Omnibus:                     1280.391   Durbin-Watson:                   1.971\n",
      "Prob(Omnibus):                  0.000   Jarque-Bera (JB):             4403.219\n",
      "Skew:                           1.236   Prob(JB):                         0.00\n",
      "Kurtosis:                       6.813   Cond. No.                         1.86\n",
      "==============================================================================\n",
      "\n",
      "Notes:\n",
      "[1] Standard Errors assume that the covariance matrix of the errors is correctly specified.\n"
     ]
    }
   ],
   "source": [
    "# Z-score Standardization\n",
    "\n",
    "scaler= StandardScaler()\n",
    "z_x = (X - np.mean(X)) / np.std(X)\n",
    "X_scaled= scaler.fit_transform(z_x)\n",
    "X_train,X_test, y_train, y_test= train_test_split(X_scaled, y, shuffle=True, test_size=0.2)\n",
    "\n",
    "sm_model(X_train, y_train)"
   ]
  },
  {
   "cell_type": "markdown",
   "id": "07713170",
   "metadata": {},
   "source": [
    "---------------\n",
    "None of the 3 transformations affected the normality of the input data"
   ]
  },
  {
   "cell_type": "markdown",
   "id": "68db899a",
   "metadata": {},
   "source": [
    "## Conclusion"
   ]
  },
  {
   "cell_type": "markdown",
   "id": "48fe221d",
   "metadata": {},
   "source": [
    "The given data of user deposit, raking days and the total games played does not hold a linear relation with the rake generated, which is proved by low probabilities of Omnibus Test, Shapiro Wilk test, JB test and non-straight line in the QQ-plot of the residuals of the trained model\n",
    "\n",
    "Linear Regression is not a good fit for this problem statement"
   ]
  }
 ],
 "metadata": {
  "kernelspec": {
   "display_name": "Python 3 (ipykernel)",
   "language": "python",
   "name": "python3"
  },
  "language_info": {
   "codemirror_mode": {
    "name": "ipython",
    "version": 3
   },
   "file_extension": ".py",
   "mimetype": "text/x-python",
   "name": "python",
   "nbconvert_exporter": "python",
   "pygments_lexer": "ipython3",
   "version": "3.9.10"
  }
 },
 "nbformat": 4,
 "nbformat_minor": 5
}
