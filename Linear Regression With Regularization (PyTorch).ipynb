{
 "cells": [
  {
   "cell_type": "code",
   "execution_count": 1,
   "id": "ae5f8c3f",
   "metadata": {},
   "outputs": [],
   "source": [
    "import torch\n",
    "from torch.nn import Linear, MSELoss\n",
    "from torch.optim import SGD\n",
    "from sklearn.datasets import fetch_california_housing\n",
    "from sklearn.model_selection import train_test_split\n",
    "import matplotlib.pyplot as plt"
   ]
  },
  {
   "cell_type": "code",
   "execution_count": 2,
   "id": "fb6c122f",
   "metadata": {},
   "outputs": [],
   "source": [
    "class LinRegPytorch():\n",
    "    #initialization\n",
    "    def __init__(self, epochs, lr, l1reg, l2reg):\n",
    "        self.num_epochs= epochs\n",
    "        self.learning_rate= lr\n",
    "        self.l1_alpha= l1reg\n",
    "        self.l2_lamda= l2reg\n",
    "        self.model= None\n",
    "        self.criterion= torch.nn.MSELoss()\n",
    "\n",
    "    #model fitting\n",
    "    def fit(self, X, y):\n",
    "        self.x_train= X\n",
    "        self.y_train=torch.tensor(y, dtype=torch.float32).view(-1, 1) #converting target to torch tensor\n",
    "        self.input_size=X.shape[1]\n",
    "        self.output_size=1 \n",
    "        self.model= Linear(self.input_size,self.output_size) #linear model\n",
    "\n",
    "        optimizer = torch.optim.SGD(self.model.parameters(), lr=self.learning_rate, weight_decay= self.l2_lamda) #optimizer\n",
    "        \n",
    "        for epoch in range(self.num_epochs):\n",
    "            outputs = self.model(self.x_train) #output predictions = tensor of shape n x 1 (ax+b value)\n",
    "            loss= self.criterion(outputs, self.y_train) #loss calculation\n",
    "\n",
    "            l1_reg= torch.tensor(0.) #initializing l1 regularization\n",
    "            for param in self.model.parameters():\n",
    "                l1_reg += torch.norm(param,1) #calculating l1 regularization\n",
    "            loss += l1_reg * self.l1_alpha #adding l1 regularization to loss\n",
    "\n",
    "            optimizer.zero_grad() #resetting gradients\n",
    "            loss.backward() #calculating gradients\n",
    "            optimizer.step() #updating weights\n",
    "\n",
    "            #print loss per 5 epochs\n",
    "            if (epoch+1) % 5 == 0:\n",
    "                print(f'Epoch {epoch+1}/{self.num_epochs}, Loss: {loss.item()}')\n",
    "                \n",
    "                \n",
    "    def print_equation(self):\n",
    "        #print equation of regression\n",
    "        weight = self.model.weight.detach().numpy()\n",
    "        bias = self.model.bias.detach().numpy()\n",
    "        equation = \"y = \"\n",
    "        for i, w in enumerate(weight[0]):\n",
    "            equation += f'{w} * x{i+1} + '\n",
    "        equation += str(bias[0])\n",
    "        print(equation)\n",
    "        \n",
    "        \n",
    "    #prediction\n",
    "    def predict(self, xtest):\n",
    "        self.model.eval() #evaluation mode\n",
    "        return self.model(xtest)\n",
    "\n",
    "    #feature importance\n",
    "    def plot_feature_importance(self, feature_names):\n",
    "        weights = self.model.weight.detach() #weights\n",
    "        importance = weights.abs().tolist()[0] #absolute value of weights\n",
    "        plt.figure(figsize=(10, 5))\n",
    "        plt.bar(feature_names, importance)\n",
    "        plt.xlabel('Features')\n",
    "        plt.ylabel('Importance')\n",
    "        plt.title('Feature Importance')\n",
    "        plt.show()\n",
    "\n"
   ]
  },
  {
   "cell_type": "code",
   "execution_count": 3,
   "id": "f25e8951",
   "metadata": {},
   "outputs": [
    {
     "name": "stdout",
     "output_type": "stream",
     "text": [
      "Epoch 5/60, Loss: 5.470411777496338\n",
      "Epoch 10/60, Loss: 5.370304107666016\n",
      "Epoch 15/60, Loss: 5.272401332855225\n",
      "Epoch 20/60, Loss: 5.176649570465088\n",
      "Epoch 25/60, Loss: 5.082998275756836\n",
      "Epoch 30/60, Loss: 4.991396903991699\n",
      "Epoch 35/60, Loss: 4.901797771453857\n",
      "Epoch 40/60, Loss: 4.814154148101807\n",
      "Epoch 45/60, Loss: 4.728417873382568\n",
      "Epoch 50/60, Loss: 4.644546031951904\n",
      "Epoch 55/60, Loss: 4.562494277954102\n",
      "Epoch 60/60, Loss: 4.482219696044922\n",
      "y = -0.05321735516190529 * x1 + -0.18106335401535034 * x2 + 0.2346329540014267 * x3 + -0.13800960779190063 * x4 + -0.1664518564939499 * x5 + 0.23374135792255402 * x6 + 0.1429307609796524 * x7 + -0.2380492091178894 * x8 + 0.39920843\n"
     ]
    },
    {
     "data": {
      "image/png": "[encoded data removed]",
      "text/plain": [
       "<Figure size 720x360 with 1 Axes>"
      ]
     },
     "metadata": {
      "needs_background": "light"
     },
     "output_type": "display_data"
    },
    {
     "name": "stdout",
     "output_type": "stream",
     "text": [
      "Mean Squared Error is: 4.3080387558617135\n",
      "On average, the model's predictions are off by about $207558.1546425414\n"
     ]
    }
   ],
   "source": [
    "california = fetch_california_housing()\n",
    "X = california.data\n",
    "y = california.target\n",
    "\n",
    "#Split the dataset into training and testing sets\n",
    "X_train, X_test, y_train, y_test = train_test_split(X, y, test_size=0.2, random_state=42)\n",
    "\n",
    "#Scale the data\n",
    "mean = torch.mean(torch.tensor(X, dtype=torch.float32), axis=0)\n",
    "std = torch.std(torch.tensor(X, dtype=torch.float32), axis=0)\n",
    "X_train = (torch.tensor(X_train, dtype=torch.float32) - mean) / std  \n",
    "X_test = (torch.tensor(X_test, dtype=torch.float32) - mean) / std\n",
    "\n",
    "\n",
    "        \n",
    "        \n",
    "#model initialization and fitting\n",
    "pt_model= LinRegPytorch(epochs= 60, lr= 0.001, l1reg= 0.005, l2reg=0.005)\n",
    "pt_model.fit(X_train,y_train)\n",
    "#printing model equation\n",
    "pt_model.print_equation()\n",
    "\n",
    "#feature importance plot\n",
    "feature_names = california.feature_names\n",
    "pt_model.plot_feature_importance(feature_names)\n",
    "\n",
    "#predictions\n",
    "y_pred = pt_model.predict(X_test)\n",
    "\n",
    "#mse calculation\n",
    "mse = torch.mean(torch.square(torch.tensor(y_test) - y_pred))\n",
    "print(f'Mean Squared Error is: {mse}')\n",
    "\n",
    "#rmse calculation\n",
    "rmse = torch.sqrt(torch.mean(torch.square(torch.tensor(y_test) - y_pred)))\n",
    "rmse_in_dollars = rmse * 100000\n",
    "\n",
    "print(f\"On average, the model's predictions are off by about ${rmse_in_dollars}\")\n"
   ]
  }
 ],
 "metadata": {
  "kernelspec": {
   "display_name": "Python 3 (ipykernel)",
   "language": "python",
   "name": "python3"
  },
  "language_info": {
   "codemirror_mode": {
    "name": "ipython",
    "version": 3
   },
   "file_extension": ".py",
   "mimetype": "text/x-python",
   "name": "python",
   "nbconvert_exporter": "python",
   "pygments_lexer": "ipython3",
   "version": "3.9.10"
  }
 },
 "nbformat": 4,
 "nbformat_minor": 5
}
