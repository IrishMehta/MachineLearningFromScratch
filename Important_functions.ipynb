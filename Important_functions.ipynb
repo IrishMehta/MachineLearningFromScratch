{
 "cells": [
  {
   "cell_type": "code",
   "execution_count": 3,
   "id": "bed47d0a-5d80-45b2-804a-6c0ee1c5cbda",
   "metadata": {},
   "outputs": [],
   "source": [
    "import numpy as np\n",
    "import random\n"
   ]
  },
  {
   "cell_type": "code",
   "execution_count": 16,
   "id": "c3c346df-e20c-4cab-ad77-e9acc793b17e",
   "metadata": {},
   "outputs": [
    {
     "name": "stdout",
     "output_type": "stream",
     "text": [
      "The generated sequence: [111 150 101 126 134]\n",
      "The modified sequence: [-39   0 -49 -24 -16]\n",
      "e^x = [1.15482242e-17 1.00000000e+00 5.24288566e-22 3.77513454e-11\n",
      " 1.12535175e-07]\n",
      "Sum of all e^x = 1.000000112572926\n",
      "Softmax output: [1.15482229e-17 9.99999887e-01 5.24288507e-22 3.77513412e-11\n",
      " 1.12535162e-07]\n"
     ]
    }
   ],
   "source": [
    "# IMplementation of softmax \n",
    "\n",
    "#generate a list of random numbers of 5 elements\n",
    "elem_list= np.array([random.randint(100,150) for i in range(5)])\n",
    "print(f'The generated sequence: {elem_list}')\n",
    "\n",
    "#To avoid expoding exponents, we will use a bit of mathematical manipulation\n",
    "logits= elem_list - np.max(elem_list)\n",
    "print(f'The modified sequence: {logits}')\n",
    "\n",
    "# This would get all elements to (min-max(elem_list)) to 0\n",
    "#Now we calculate the exponents\n",
    "numerator= np.exp(logits)\n",
    "denominator= sum(np.exp(logits))\n",
    "print(f'e^x = {numerator}')\n",
    "print(f'Sum of all e^x = {denominator}')\n",
    "\n",
    "output_of_softmax= numerator/denominator\n",
    "print(f'Softmax output: {output_of_softmax}')\n",
    "\n",
    "\n",
    "# Couple of theory pointers-\n",
    "# 1) Subtracting max gives the same output as not subtracting, as the -max(elem_list) power gets cut out with each other when we consider \n",
    "# numerator and denominator together. I.e e^x-c is there in both num and denom, so -c gets cut out \n",
    "\n",
    "# 2) The reason why we take exponents is so that we assign a unique value to each element. Compared to a simple subtraction equation/division, exponents would evenly spread the distribution, and numbers close to the extremes are assigned a probability very close to 0 or 1"
   ]
  },
  {
   "cell_type": "code",
   "execution_count": 35,
   "id": "967e0971-0b88-4014-a569-d632457d5a8b",
   "metadata": {},
   "outputs": [
    {
     "name": "stdout",
     "output_type": "stream",
     "text": [
      "Input List: [-10000   -100    100  10000]\n",
      "The output of using a single formula: [0.00000000e+00 3.72007598e-44 1.00000000e+00 1.00000000e+00]\n",
      "Time taken for single formula: 0.000128 seconds\n",
      "\n",
      "Using numpy.where function for different formula for +/-ve elements: [0.00000000e+00 3.72007598e-44 1.00000000e+00 1.00000000e+00]\n",
      "Time taken for numpy.where: 0.000134 seconds\n",
      "\n",
      "Using split formula using if-else function: [0.00000000e+00 3.72007598e-44 1.00000000e+00 1.00000000e+00]\n",
      "Time taken for Pythonic if-else: 0.000121 seconds\n",
      "\n"
     ]
    },
    {
     "name": "stderr",
     "output_type": "stream",
     "text": [
      "/tmp/ipykernel_3212378/3509823871.py:15: RuntimeWarning: overflow encountered in exp\n",
      "  exponents = np.exp(-elem_list)\n",
      "/tmp/ipykernel_3212378/3509823871.py:25: RuntimeWarning: overflow encountered in exp\n",
      "  np.exp(elem_list) / (1 + np.exp(elem_list)),\n",
      "/tmp/ipykernel_3212378/3509823871.py:25: RuntimeWarning: invalid value encountered in divide\n",
      "  np.exp(elem_list) / (1 + np.exp(elem_list)),\n",
      "/tmp/ipykernel_3212378/3509823871.py:26: RuntimeWarning: overflow encountered in exp\n",
      "  1 / (1 + np.exp(-elem_list))\n"
     ]
    }
   ],
   "source": [
    "# Implementation of Sigmoid\n",
    "\n",
    "# According to knowledge:\n",
    "# Sigmoid: 1/1+e^(-x)\n",
    "\n",
    "import numpy as np\n",
    "import time\n",
    "\n",
    "# Input list\n",
    "elem_list = np.array([-10000, -100, 100, 10000])\n",
    "print(f'Input List: {elem_list}')\n",
    "\n",
    "# Method 1: Single formula (unstable)\n",
    "start_time = time.time()\n",
    "exponents = np.exp(-elem_list)\n",
    "sigmoid_values = 1 / (1 + exponents)\n",
    "end_time = time.time()\n",
    "print(f'The output of using a single formula: {sigmoid_values}')\n",
    "print(f'Time taken for single formula: {end_time - start_time:.6f} seconds\\n')\n",
    "\n",
    "# Resolving the overflow-\n",
    "# When x is -infinity, e^-x becomes too large and 1+ e^-x is also large. Hence, when we divide 1 by this large number, it underflows\n",
    "# SO instead of this form of the equation, we use something which will not underflow or overflow, i.e. e^x/(1+e^x), which is just the expanded form of the original equation, but\n",
    "# in this, when x tends to -infinity, numerator will underflow, but it is not a problem as denominator compensates for it\n",
    "# Insane- even this will throw an error. That is because NumPy's where function does not work like an if else condition, it will calculate for both and then pick the one based condition\n",
    "\n",
    "# Method 2: Using numpy.where (partially stable)\n",
    "start_time = time.time()\n",
    "sigmoid_values = np.where(\n",
    "    elem_list < 0,\n",
    "    np.exp(elem_list) / (1 + np.exp(elem_list)),\n",
    "    1 / (1 + np.exp(-elem_list))\n",
    ")\n",
    "end_time = time.time()\n",
    "print(f'Using numpy.where function for different formula for +/-ve elements: {sigmoid_values}')\n",
    "print(f'Time taken for numpy.where: {end_time - start_time:.6f} seconds\\n')\n",
    "\n",
    "# Method 3: Using Pythonic if-else (stable)\n",
    "start_time = time.time()\n",
    "sigmoid_values = []\n",
    "for i in elem_list:\n",
    "    if i < 0:\n",
    "        sigmoid_values.append(np.exp(i) / (1 + np.exp(i)))\n",
    "    else:\n",
    "        sigmoid_values.append(1 / (1 + np.exp(-i)))\n",
    "sigmoid_values = np.array(sigmoid_values)\n",
    "end_time = time.time()\n",
    "print(f'Using split formula using if-else function: {sigmoid_values}')\n",
    "print(f'Time taken for Pythonic if-else: {end_time - start_time:.6f} seconds\\n')\n",
    "\n",
    "# Note:\n",
    "# 1) Sigmoid always tends to 0 or 1 but never touches\n",
    "# 2) Sigmoid is softmax function for 2 classes only"
   ]
  },
  {
   "cell_type": "code",
   "execution_count": null,
   "id": "f35f8df1-9c94-4007-ae14-41ac50fa0e59",
   "metadata": {},
   "outputs": [],
   "source": []
  },
  {
   "cell_type": "code",
   "execution_count": null,
   "id": "71708d70-2698-4479-930d-fb7072340d3e",
   "metadata": {},
   "outputs": [],
   "source": []
  }
 ],
 "metadata": {
  "kernelspec": {
   "display_name": "Python 3 (ipykernel)",
   "language": "python",
   "name": "python3"
  },
  "language_info": {
   "codemirror_mode": {
    "name": "ipython",
    "version": 3
   },
   "file_extension": ".py",
   "mimetype": "text/x-python",
   "name": "python",
   "nbconvert_exporter": "python",
   "pygments_lexer": "ipython3",
   "version": "3.11.6"
  }
 },
 "nbformat": 4,
 "nbformat_minor": 5
}
