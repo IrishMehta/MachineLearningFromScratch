{
 "cells": [
  {
   "cell_type": "code",
   "execution_count": null,
   "id": "9889dc8e-5022-4c4d-9315-1d3e15b61573",
   "metadata": {},
   "outputs": [],
   "source": [
    "# Decision Tree implementation\n",
    "\n",
    "Pseudo code-\n",
    "1) pick a feature at random, sort it in order if numerical\n",
    "2) create multiple thresholds for that feature, between two consecutive points\n",
    "3) for each threshold, see the information gain after splitting \n",
    "4) After checking gain on all thresholds, find the best one\n",
    "5) Now do 1-4 for all the features in the dataset\n",
    "6) Pick the feature which has the maximum information gain\n",
    "7) do the same thing for the left node and the right node\n",
    "8) Keep doing this recursively till no features are left or till all nodes only have one class"
   ]
  }
 ],
 "metadata": {
  "kernelspec": {
   "display_name": "Python 3 (ipykernel)",
   "language": "python",
   "name": "python3"
  },
  "language_info": {
   "codemirror_mode": {
    "name": "ipython",
    "version": 3
   },
   "file_extension": ".py",
   "mimetype": "text/x-python",
   "name": "python",
   "nbconvert_exporter": "python",
   "pygments_lexer": "ipython3",
   "version": "3.11.6"
  }
 },
 "nbformat": 4,
 "nbformat_minor": 5
}
