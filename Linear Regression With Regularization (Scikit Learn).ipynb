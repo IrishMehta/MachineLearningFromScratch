{
 "cells": [
  {
   "cell_type": "code",
   "execution_count": 7,
   "id": "03b0aa76",
   "metadata": {},
   "outputs": [],
   "source": [
    "import numpy as np\n",
    "from sklearn.datasets import fetch_california_housing\n",
    "from sklearn.model_selection import train_test_split\n",
    "\n",
    "\n",
    "\n",
    "#Load the California Housing dataset\n",
    "california = fetch_california_housing()\n",
    "X = california.data\n",
    "y = california.target\n",
    "\n",
    "#Split the dataset into training and testing sets\n",
    "X_train, X_test, y_train, y_test = train_test_split(X, y, test_size=0.2, random_state=42)\n",
    "\n",
    "#Scale the data\n",
    "mean = np.mean(X, axis=0)\n",
    "std = np.std(X, axis=0)\n",
    "\n",
    "X_train = (X_train - mean) / std  \n",
    "X_test = (X_test - mean) / std\n"
   ]
  },
  {
   "cell_type": "code",
   "execution_count": 13,
   "id": "349f63ce",
   "metadata": {},
   "outputs": [
    {
     "name": "stdout",
     "output_type": "stream",
     "text": [
      "Model: Linear Regression\n",
      "Equation: y=0.8523816881485077 * X0 + 0.12238223843286544 * X1 + -0.3051159106465552 * X2 + 0.3711318828486192 * X3 + -0.002298412747941676 * X4 + -0.03662363134691482 * X5 + -0.8966350465633491 * X6 + -0.8689268165456223 * X7 + 2.067862309508389\n",
      "Mean Squared Error is: 0.5558915986952444 \n",
      "\n",
      "\n",
      "Model: Ridge Regression\n",
      "Equation: y=0.8522742593948514 * X0 + 0.12249887606539676 * X1 + -0.3047484472843103 * X2 + 0.37066198935687206 * X3 + -0.002260230209113416 * X4 + -0.03662905324811446 * X5 + -0.8955097864450784 * X6 + -0.867784650736004 * X7 + 2.0678634615042566\n",
      "Mean Squared Error is: 0.5558311004589417 \n",
      "\n",
      "\n",
      "Model: Ridge Regression with Cross-Validation\n",
      "Equation: y=0.8522742593948514 * X0 + 0.12249887606539676 * X1 + -0.3047484472843103 * X2 + 0.37066198935687206 * X3 + -0.002260230209113416 * X4 + -0.03662905324811446 * X5 + -0.8955097864450784 * X6 + -0.867784650736004 * X7 + 2.0678634615042566\n",
      "Mean Squared Error is: 0.5558311004589417 \n",
      "\n",
      "\n",
      "Model: Lasso Regression\n",
      "Equation: y=0.0 * X0 + 0.0 * X1 + 0.0 * X2 + -0.0 * X3 + -0.0 * X4 + -0.0 * X5 + -0.0 * X6 + -0.0 * X7 + 2.071946937378876\n",
      "Mean Squared Error is: 1.3106960720039365 \n",
      "\n",
      "\n",
      "Model: Lasso Regression with Cross-Validation\n",
      "Equation: y=0.0 * X0 + 0.0 * X1 + 0.0 * X2 + -0.0 * X3 + -0.0 * X4 + -0.0 * X5 + -0.0 * X6 + -0.0 * X7 + 2.071946937378876\n",
      "Mean Squared Error is: 1.3106960720039365 \n",
      "\n",
      "\n",
      "Model: ElasticNet Regression\n",
      "Equation: y=0.028719668287275305 * X0 + 0.0 * X1 + 0.0 * X2 + -0.0 * X3 + -0.0 * X4 + -0.0 * X5 + -0.0 * X6 + -0.0 * X7 + 2.0717945047899797\n",
      "Mean Squared Error is: 1.2673657149822555 \n",
      "\n",
      "\n",
      "Model: ElasticNet Regression with Cross-Validation\n",
      "Equation: y=0.028719668287275305 * X0 + 0.0 * X1 + 0.0 * X2 + -0.0 * X3 + -0.0 * X4 + -0.0 * X5 + -0.0 * X6 + -0.0 * X7 + 2.0717945047899797\n",
      "Mean Squared Error is: 1.2673657149822555 \n",
      "\n",
      "\n"
     ]
    }
   ],
   "source": [
    "from sklearn.linear_model import LinearRegression, Ridge, RidgeCV, Lasso, LassoCV, ElasticNet, ElasticNetCV\n",
    "from sklearn.metrics import mean_squared_error\n",
    "\n",
    "model_dict = {\n",
    "    'Linear Regression': LinearRegression(),\n",
    "    'Ridge Regression': Ridge(alpha=1.5),\n",
    "    'Ridge Regression with Cross-Validation': RidgeCV(alphas=[1.5], cv=4),\n",
    "    'Lasso Regression': Lasso(alpha=1.5),\n",
    "    'Lasso Regression with Cross-Validation': LassoCV(alphas=[1.5], cv=4),\n",
    "    'ElasticNet Regression': ElasticNet(alpha=1.5, l1_ratio=0.5),\n",
    "    'ElasticNet Regression with Cross-Validation': ElasticNetCV(alphas=[1.5], l1_ratio=0.5, cv=4),\n",
    "}\n",
    "\n",
    "\n",
    "# Iterate over the models in the dictionary\n",
    "for model_name, model in model_dict.items():\n",
    "    model.fit(X_train, y_train)\n",
    "    y_pred = model.predict(X_test)\n",
    "    mse = mean_squared_error(y_true=y_test, y_pred=y_pred)\n",
    "    temp = 'y='\n",
    "    for index, val in enumerate(model.coef_):\n",
    "        temp += f'{val} * X{index} + '\n",
    "    temp += f'{model.intercept_}'\n",
    "    print(f\"Model: {model_name}\\nEquation: {temp}\")\n",
    "    print(f'Mean Squared Error is: {mse} \\n\\n')\n"
   ]
  }
 ],
 "metadata": {
  "kernelspec": {
   "display_name": "Python 3 (ipykernel)",
   "language": "python",
   "name": "python3"
  },
  "language_info": {
   "codemirror_mode": {
    "name": "ipython",
    "version": 3
   },
   "file_extension": ".py",
   "mimetype": "text/x-python",
   "name": "python",
   "nbconvert_exporter": "python",
   "pygments_lexer": "ipython3",
   "version": "3.9.10"
  }
 },
 "nbformat": 4,
 "nbformat_minor": 5
}
